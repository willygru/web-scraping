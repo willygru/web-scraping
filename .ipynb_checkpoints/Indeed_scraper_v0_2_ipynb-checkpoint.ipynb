{
 "cells": [
  {
   "cell_type": "code",
   "execution_count": null,
   "metadata": {},
   "outputs": [],
   "source": [
    "!pip install pandas"
   ]
  },
  {
   "cell_type": "code",
   "execution_count": 1,
   "metadata": {
    "id": "7W9BNhmGqGJ4"
   },
   "outputs": [
    {
     "ename": "ModuleNotFoundError",
     "evalue": "No module named 'pandas'",
     "output_type": "error",
     "traceback": [
      "\u001b[1;31m---------------------------------------------------------------------------\u001b[0m",
      "\u001b[1;31mModuleNotFoundError\u001b[0m                       Traceback (most recent call last)",
      "Cell \u001b[1;32mIn[1], line 3\u001b[0m\n\u001b[0;32m      1\u001b[0m \u001b[38;5;28;01mimport\u001b[39;00m \u001b[38;5;21;01mtime\u001b[39;00m\n\u001b[1;32m----> 3\u001b[0m \u001b[38;5;28;01mimport\u001b[39;00m \u001b[38;5;21;01mpandas\u001b[39;00m \u001b[38;5;28;01mas\u001b[39;00m \u001b[38;5;21;01mpd\u001b[39;00m\n\u001b[0;32m      4\u001b[0m \u001b[38;5;28;01mimport\u001b[39;00m \u001b[38;5;21;01mrequests\u001b[39;00m\n\u001b[0;32m      5\u001b[0m \u001b[38;5;28;01mfrom\u001b[39;00m \u001b[38;5;21;01mbs4\u001b[39;00m \u001b[38;5;28;01mimport\u001b[39;00m BeautifulSoup\n",
      "\u001b[1;31mModuleNotFoundError\u001b[0m: No module named 'pandas'"
     ]
    }
   ],
   "source": [
    "import time\n",
    "\n",
    "import pandas as pd\n",
    "import requests\n",
    "from bs4 import BeautifulSoup\n",
    "from tqdm import tqdm"
   ]
  },
  {
   "cell_type": "code",
   "execution_count": 2,
   "metadata": {
    "id": "ChFQnN6tD5Az"
   },
   "outputs": [],
   "source": [
    "def get_job_soup(job_url):\n",
    "    # get soup of each job post\n",
    "    r = requests.get(job_url)\n",
    "    job_soup = BeautifulSoup(r.text, 'html5lib')\n",
    "    return job_soup\n",
    "\n",
    "def get_element_text(job_soup, element, attributes, default='ND'):\n",
    "    # get text of specific element in each job post\n",
    "    try:\n",
    "        text = job_soup.find(element, attributes).get_text()\n",
    "        return text\n",
    "    except AttributeError:\n",
    "        return default\n",
    "\n",
    "def get_company(job_soup):\n",
    "    # get company of each job post\n",
    "    return get_element_text(job_soup, 'a', {'target' : '_blank'})\n",
    "\n",
    "def get_date(job_soup):\n",
    "    # get date of each job post\n",
    "    return get_element_text(job_soup, 'p', {'class': 'jobsearch-HiringInsights-entry--bullet'})\n"
   ]
  },
  {
   "cell_type": "code",
   "execution_count": 3,
   "metadata": {
    "id": "MMYn6dmgE6Ss"
   },
   "outputs": [],
   "source": [
    "def get_data(soup):\n",
    "    # receives soup from one search page and returns relevant data from All (15) job posts in that page \n",
    "    prospect_data = []\n",
    "    for item in tqdm(soup.find_all('a', {'class' : 'jcs-JobTitle'})):\n",
    "        temp = {}\n",
    "        job_title = item.get_text()\n",
    "        temp['Job Title'] = job_title\n",
    "        job_url = 'https://www.indeed.com' + item['href']\n",
    "        temp['URL'] = job_url\n",
    "        try:\n",
    "            job_soup = get_job_soup(job_url)\n",
    "            time.sleep(30)  # consider increasing sleep time\n",
    "\n",
    "            company = get_company(job_soup)\n",
    "            temp['Company'] = company\n",
    "            date = get_date(job_soup)\n",
    "            temp['Date Published'] = date\n",
    "            prospect_data.append(temp)\n",
    "        except requests.exceptions.RequestException as e:\n",
    "            print(f\"An error occurred with URL {job_url}. Error: {e}\")\n",
    "    \n",
    "    prospect_data_df = pd.DataFrame(prospect_data)\n",
    "    return prospect_data_df"
   ]
  },
  {
   "cell_type": "code",
   "execution_count": 4,
   "metadata": {
    "id": "25rMkZyUF2gK"
   },
   "outputs": [],
   "source": [
    "def gen_dataframe(URLs):\n",
    "    # create df structure\n",
    "    prospect_data_dfs = []\n",
    "\n",
    "    # get relevant data for each one of the URLs in URLs\n",
    "    for URL in tqdm(URLs):\n",
    "        try:\n",
    "            # get soup from URL\n",
    "            r = requests.get(URL)\n",
    "            soup = BeautifulSoup(r.text, 'html5lib')\n",
    "            print(f\"URL: {URL}, Status code: {r.status_code}\")\n",
    "\n",
    "            # get relevant data from ALL job posts in URL (in df type)  \n",
    "            prospect_data_temp = get_data(soup)\n",
    "            prospect_data_dfs.append(prospect_data_temp)\n",
    "\n",
    "        except requests.exceptions.RequestException as e:\n",
    "            print(f\"An error occurred with URL {URL}. Error: {e}\")\n",
    "\n",
    "    # Concatenate all dataframes\n",
    "    prospect_data_df = pd.concat(prospect_data_dfs, ignore_index=True)\n",
    "\n",
    "    return prospect_data_df"
   ]
  },
  {
   "cell_type": "code",
   "execution_count": 5,
   "metadata": {
    "colab": {
     "base_uri": "https://localhost:8080/"
    },
    "id": "aZqzrSCnGe3J",
    "outputId": "b8ab0cc6-35b4-4db2-c09b-128931a98c44"
   },
   "outputs": [
    {
     "data": {
      "text/plain": [
       "['https://www.indeed.com/jobs?q=Python&l=FL&remotejob=032b3046-06a3-4876-8dfd-474eb5e7ed11&start=0&vjk=32f240a881a1bdc6',\n",
       " 'https://www.indeed.com/jobs?q=Azure&l=FL&remotejob=032b3046-06a3-4876-8dfd-474eb5e7ed11&start=0&vjk=32f240a881a1bdc6',\n",
       " 'https://www.indeed.com/jobs?q=.NET&l=FL&remotejob=032b3046-06a3-4876-8dfd-474eb5e7ed11&start=0&vjk=32f240a881a1bdc6',\n",
       " 'https://www.indeed.com/jobs?q=Python&l=GA&remotejob=032b3046-06a3-4876-8dfd-474eb5e7ed11&start=0&vjk=32f240a881a1bdc6',\n",
       " 'https://www.indeed.com/jobs?q=Azure&l=GA&remotejob=032b3046-06a3-4876-8dfd-474eb5e7ed11&start=0&vjk=32f240a881a1bdc6',\n",
       " 'https://www.indeed.com/jobs?q=.NET&l=GA&remotejob=032b3046-06a3-4876-8dfd-474eb5e7ed11&start=0&vjk=32f240a881a1bdc6',\n",
       " 'https://www.indeed.com/jobs?q=Python&l=SC&remotejob=032b3046-06a3-4876-8dfd-474eb5e7ed11&start=0&vjk=32f240a881a1bdc6',\n",
       " 'https://www.indeed.com/jobs?q=Azure&l=SC&remotejob=032b3046-06a3-4876-8dfd-474eb5e7ed11&start=0&vjk=32f240a881a1bdc6',\n",
       " 'https://www.indeed.com/jobs?q=.NET&l=SC&remotejob=032b3046-06a3-4876-8dfd-474eb5e7ed11&start=0&vjk=32f240a881a1bdc6',\n",
       " 'https://www.indeed.com/jobs?q=Python&l=NC&remotejob=032b3046-06a3-4876-8dfd-474eb5e7ed11&start=0&vjk=32f240a881a1bdc6',\n",
       " 'https://www.indeed.com/jobs?q=Azure&l=NC&remotejob=032b3046-06a3-4876-8dfd-474eb5e7ed11&start=0&vjk=32f240a881a1bdc6',\n",
       " 'https://www.indeed.com/jobs?q=.NET&l=NC&remotejob=032b3046-06a3-4876-8dfd-474eb5e7ed11&start=0&vjk=32f240a881a1bdc6',\n",
       " 'https://www.indeed.com/jobs?q=Python&l=VA&remotejob=032b3046-06a3-4876-8dfd-474eb5e7ed11&start=0&vjk=32f240a881a1bdc6',\n",
       " 'https://www.indeed.com/jobs?q=Azure&l=VA&remotejob=032b3046-06a3-4876-8dfd-474eb5e7ed11&start=0&vjk=32f240a881a1bdc6',\n",
       " 'https://www.indeed.com/jobs?q=.NET&l=VA&remotejob=032b3046-06a3-4876-8dfd-474eb5e7ed11&start=0&vjk=32f240a881a1bdc6']"
      ]
     },
     "execution_count": 5,
     "metadata": {},
     "output_type": "execute_result"
    }
   ],
   "source": [
    "from urllib.parse import quote_plus\n",
    "\n",
    "# Job titles\n",
    "# job = 'Azure' #'+'%20'+'.NET'\n",
    "jobs = ['Python', 'Azure', '.NET']\n",
    "# jobs = ['ciencia'+'%20'+'de'+'%20'+'datos']\n",
    "# jobs = ['data'+'%20'+'science']\n",
    "# jobs = ['data'+'%20'+'scientist']\n",
    "\n",
    "# Locations\n",
    "# state = 'GA'\n",
    "states = ['FL', 'GA', 'SC', 'NC', 'VA']\n",
    "# states = ['CT', 'NY', 'NJ']\n",
    "# states = ['DE', 'ND', 'RI']\n",
    "# states = ['FL', 'GA', 'SC', 'NC', 'VA', 'CT', 'NY', 'NJ', 'DE', 'ND', 'RI', 'ME', 'NH', 'MA']\n",
    "\n",
    "# List to store all URLs\n",
    "URLs = []\n",
    "\n",
    "# Generate URLs for each state and job title\n",
    "for state in states:\n",
    "    for job in jobs:\n",
    "        job_encoded = quote_plus(job)  # URL encode the job title\n",
    "        for jobs_range in range(0, 10, 10):  # I'm assuming this is a placeholder range; otherwise, it will only loop once\n",
    "            URL = f'https://www.indeed.com/jobs?q={job_encoded}&l={state}&remotejob=032b3046-06a3-4876-8dfd-474eb5e7ed11&start={jobs_range}&vjk=32f240a881a1bdc6'\n",
    "            URLs.append(URL)\n",
    "\n",
    "# Print the URLs\n",
    "URLs"
   ]
  },
  {
   "cell_type": "code",
   "execution_count": 6,
   "metadata": {
    "colab": {
     "base_uri": "https://localhost:8080/"
    },
    "id": "29OvEISo-w_5",
    "outputId": "165824b4-9c4b-4992-ada8-6665f7154b59"
   },
   "outputs": [
    {
     "data": {
      "text/plain": [
       "15"
      ]
     },
     "execution_count": 6,
     "metadata": {},
     "output_type": "execute_result"
    }
   ],
   "source": [
    "len(URLs)"
   ]
  },
  {
   "cell_type": "code",
   "execution_count": 6,
   "metadata": {
    "id": "XPiB3tp0k2oT"
   },
   "outputs": [],
   "source": []
  },
  {
   "cell_type": "markdown",
   "metadata": {
    "id": "IKRaJUDSk3KO"
   },
   "source": [
    "**SECOND PART**"
   ]
  },
  {
   "cell_type": "code",
   "execution_count": null,
   "metadata": {
    "id": "Gqmf4SXPjDT0"
   },
   "outputs": [],
   "source": [
    "!apt-get update"
   ]
  },
  {
   "cell_type": "code",
   "execution_count": 8,
   "metadata": {
    "id": "ljTjw1-rqxci"
   },
   "outputs": [],
   "source": [
    "# !apt-get update # to update ubuntu to correctly run apt install\n",
    "# !apt install -y chromium-chromedriver\n",
    "# !cp /usr/lib/chromium-browser/chromedriver /usr/bin\n",
    "\n",
    "# import sys\n",
    "# sys.path.insert(0,'/usr/lib/chromium-browser/chromedriver')"
   ]
  },
  {
   "cell_type": "code",
   "execution_count": null,
   "metadata": {
    "id": "30wl9nDQXvOE"
   },
   "outputs": [],
   "source": [
    "!pip install selenium\n",
    "!apt install -y chromium-browser\n",
    "!apt install -y chromium-chromedriver\n",
    "!pip install webdriver_manager\n",
    "!apt-get install -y google-chrome-stable"
   ]
  },
  {
   "cell_type": "code",
   "execution_count": null,
   "metadata": {
    "id": "gEYKqXlNspgG"
   },
   "outputs": [],
   "source": [
    "!wget https://dl.google.com/linux/direct/google-chrome-stable_current_amd64.deb\n",
    "!dpkg -i google-chrome-stable_current_amd64.deb\n",
    "!apt --fix-broken install"
   ]
  },
  {
   "cell_type": "code",
   "execution_count": 11,
   "metadata": {
    "colab": {
     "base_uri": "https://localhost:8080/"
    },
    "id": "XIzQyOcUkwCO",
    "outputId": "9a7a55d2-235e-49e0-fe5b-596798942514"
   },
   "outputs": [
    {
     "name": "stdout",
     "output_type": "stream",
     "text": [
      "chromedriver\n",
      "Google Chrome 113.0.5672.126 \n"
     ]
    }
   ],
   "source": [
    "!ls /usr/lib/chromium-browser\n",
    "!google-chrome-stable --version"
   ]
  },
  {
   "cell_type": "code",
   "execution_count": 15,
   "metadata": {
    "id": "-TIcIDy_kNyp"
   },
   "outputs": [],
   "source": [
    "from selenium import webdriver\n",
    "from selenium.webdriver.support.ui import WebDriverWait\n",
    "from selenium.common.exceptions import NoSuchElementException\n",
    "from selenium.webdriver.common.by import By\n",
    "from selenium.webdriver.chrome.service import Service\n",
    "from webdriver_manager.chrome import ChromeDriverManager"
   ]
  },
  {
   "cell_type": "code",
   "execution_count": 16,
   "metadata": {
    "id": "oC5lXal9oh1I"
   },
   "outputs": [],
   "source": [
    "chrome_options = webdriver.ChromeOptions()\n",
    "chrome_options.add_argument('--headless')\n",
    "chrome_options.add_argument('--no-sandbox')\n",
    "chrome_options.add_argument('--disable-dev-shm-usage')\n",
    "\n",
    "webdriver_service = Service(ChromeDriverManager().install())\n",
    "\n",
    "driver = webdriver.Chrome(service=webdriver_service, options=chrome_options)"
   ]
  },
  {
   "cell_type": "code",
   "execution_count": 32,
   "metadata": {
    "colab": {
     "base_uri": "https://localhost:8080/",
     "height": 711
    },
    "id": "ILk3hMynMZ2M",
    "outputId": "ea9b59ea-90b4-4e7f-870d-58e3d5020fbb"
   },
   "outputs": [
    {
     "ename": "NoSuchElementException",
     "evalue": "ignored",
     "output_type": "error",
     "traceback": [
      "\u001b[0;31m---------------------------------------------------------------------------\u001b[0m",
      "\u001b[0;31mNoSuchElementException\u001b[0m                    Traceback (most recent call last)",
      "\u001b[0;32m<ipython-input-32-064a2f8db545>\u001b[0m in \u001b[0;36m<cell line: 8>\u001b[0;34m()\u001b[0m\n\u001b[1;32m      6\u001b[0m \u001b[0;34m\u001b[0m\u001b[0m\n\u001b[1;32m      7\u001b[0m \u001b[0;31m# Find the captcha box element using CSS selector\u001b[0m\u001b[0;34m\u001b[0m\u001b[0;34m\u001b[0m\u001b[0m\n\u001b[0;32m----> 8\u001b[0;31m \u001b[0mcaptcha_box_1\u001b[0m \u001b[0;34m=\u001b[0m \u001b[0mdriver\u001b[0m\u001b[0;34m.\u001b[0m\u001b[0mfind_element\u001b[0m\u001b[0;34m(\u001b[0m\u001b[0mBy\u001b[0m\u001b[0;34m.\u001b[0m\u001b[0mCSS_SELECTOR\u001b[0m\u001b[0;34m,\u001b[0m \u001b[0;34m\"#challenge-stage > div > label > input[type=checkbox]\"\u001b[0m\u001b[0;34m)\u001b[0m\u001b[0;34m\u001b[0m\u001b[0;34m\u001b[0m\u001b[0m\n\u001b[0m\u001b[1;32m      9\u001b[0m \u001b[0;34m\u001b[0m\u001b[0m\n\u001b[1;32m     10\u001b[0m \u001b[0;31m# Find the captcha box element using XPath\u001b[0m\u001b[0;34m\u001b[0m\u001b[0;34m\u001b[0m\u001b[0m\n",
      "\u001b[0;32m/usr/local/lib/python3.10/dist-packages/selenium/webdriver/remote/webdriver.py\u001b[0m in \u001b[0;36mfind_element\u001b[0;34m(self, by, value)\u001b[0m\n\u001b[1;32m    829\u001b[0m             \u001b[0mvalue\u001b[0m \u001b[0;34m=\u001b[0m \u001b[0;34mf'[name=\"{value}\"]'\u001b[0m\u001b[0;34m\u001b[0m\u001b[0;34m\u001b[0m\u001b[0m\n\u001b[1;32m    830\u001b[0m \u001b[0;34m\u001b[0m\u001b[0m\n\u001b[0;32m--> 831\u001b[0;31m         \u001b[0;32mreturn\u001b[0m \u001b[0mself\u001b[0m\u001b[0;34m.\u001b[0m\u001b[0mexecute\u001b[0m\u001b[0;34m(\u001b[0m\u001b[0mCommand\u001b[0m\u001b[0;34m.\u001b[0m\u001b[0mFIND_ELEMENT\u001b[0m\u001b[0;34m,\u001b[0m \u001b[0;34m{\u001b[0m\u001b[0;34m\"using\"\u001b[0m\u001b[0;34m:\u001b[0m \u001b[0mby\u001b[0m\u001b[0;34m,\u001b[0m \u001b[0;34m\"value\"\u001b[0m\u001b[0;34m:\u001b[0m \u001b[0mvalue\u001b[0m\u001b[0;34m}\u001b[0m\u001b[0;34m)\u001b[0m\u001b[0;34m[\u001b[0m\u001b[0;34m\"value\"\u001b[0m\u001b[0;34m]\u001b[0m\u001b[0;34m\u001b[0m\u001b[0;34m\u001b[0m\u001b[0m\n\u001b[0m\u001b[1;32m    832\u001b[0m \u001b[0;34m\u001b[0m\u001b[0m\n\u001b[1;32m    833\u001b[0m     \u001b[0;32mdef\u001b[0m \u001b[0mfind_elements\u001b[0m\u001b[0;34m(\u001b[0m\u001b[0mself\u001b[0m\u001b[0;34m,\u001b[0m \u001b[0mby\u001b[0m\u001b[0;34m=\u001b[0m\u001b[0mBy\u001b[0m\u001b[0;34m.\u001b[0m\u001b[0mID\u001b[0m\u001b[0;34m,\u001b[0m \u001b[0mvalue\u001b[0m\u001b[0;34m:\u001b[0m \u001b[0mOptional\u001b[0m\u001b[0;34m[\u001b[0m\u001b[0mstr\u001b[0m\u001b[0;34m]\u001b[0m \u001b[0;34m=\u001b[0m \u001b[0;32mNone\u001b[0m\u001b[0;34m)\u001b[0m \u001b[0;34m->\u001b[0m \u001b[0mList\u001b[0m\u001b[0;34m[\u001b[0m\u001b[0mWebElement\u001b[0m\u001b[0;34m]\u001b[0m\u001b[0;34m:\u001b[0m\u001b[0;34m\u001b[0m\u001b[0;34m\u001b[0m\u001b[0m\n",
      "\u001b[0;32m/usr/local/lib/python3.10/dist-packages/selenium/webdriver/remote/webdriver.py\u001b[0m in \u001b[0;36mexecute\u001b[0;34m(self, driver_command, params)\u001b[0m\n\u001b[1;32m    438\u001b[0m         \u001b[0mresponse\u001b[0m \u001b[0;34m=\u001b[0m \u001b[0mself\u001b[0m\u001b[0;34m.\u001b[0m\u001b[0mcommand_executor\u001b[0m\u001b[0;34m.\u001b[0m\u001b[0mexecute\u001b[0m\u001b[0;34m(\u001b[0m\u001b[0mdriver_command\u001b[0m\u001b[0;34m,\u001b[0m \u001b[0mparams\u001b[0m\u001b[0;34m)\u001b[0m\u001b[0;34m\u001b[0m\u001b[0;34m\u001b[0m\u001b[0m\n\u001b[1;32m    439\u001b[0m         \u001b[0;32mif\u001b[0m \u001b[0mresponse\u001b[0m\u001b[0;34m:\u001b[0m\u001b[0;34m\u001b[0m\u001b[0;34m\u001b[0m\u001b[0m\n\u001b[0;32m--> 440\u001b[0;31m             \u001b[0mself\u001b[0m\u001b[0;34m.\u001b[0m\u001b[0merror_handler\u001b[0m\u001b[0;34m.\u001b[0m\u001b[0mcheck_response\u001b[0m\u001b[0;34m(\u001b[0m\u001b[0mresponse\u001b[0m\u001b[0;34m)\u001b[0m\u001b[0;34m\u001b[0m\u001b[0;34m\u001b[0m\u001b[0m\n\u001b[0m\u001b[1;32m    441\u001b[0m             \u001b[0mresponse\u001b[0m\u001b[0;34m[\u001b[0m\u001b[0;34m\"value\"\u001b[0m\u001b[0;34m]\u001b[0m \u001b[0;34m=\u001b[0m \u001b[0mself\u001b[0m\u001b[0;34m.\u001b[0m\u001b[0m_unwrap_value\u001b[0m\u001b[0;34m(\u001b[0m\u001b[0mresponse\u001b[0m\u001b[0;34m.\u001b[0m\u001b[0mget\u001b[0m\u001b[0;34m(\u001b[0m\u001b[0;34m\"value\"\u001b[0m\u001b[0;34m,\u001b[0m \u001b[0;32mNone\u001b[0m\u001b[0;34m)\u001b[0m\u001b[0;34m)\u001b[0m\u001b[0;34m\u001b[0m\u001b[0;34m\u001b[0m\u001b[0m\n\u001b[1;32m    442\u001b[0m             \u001b[0;32mreturn\u001b[0m \u001b[0mresponse\u001b[0m\u001b[0;34m\u001b[0m\u001b[0;34m\u001b[0m\u001b[0m\n",
      "\u001b[0;32m/usr/local/lib/python3.10/dist-packages/selenium/webdriver/remote/errorhandler.py\u001b[0m in \u001b[0;36mcheck_response\u001b[0;34m(self, response)\u001b[0m\n\u001b[1;32m    243\u001b[0m                 \u001b[0malert_text\u001b[0m \u001b[0;34m=\u001b[0m \u001b[0mvalue\u001b[0m\u001b[0;34m[\u001b[0m\u001b[0;34m\"alert\"\u001b[0m\u001b[0;34m]\u001b[0m\u001b[0;34m.\u001b[0m\u001b[0mget\u001b[0m\u001b[0;34m(\u001b[0m\u001b[0;34m\"text\"\u001b[0m\u001b[0;34m)\u001b[0m\u001b[0;34m\u001b[0m\u001b[0;34m\u001b[0m\u001b[0m\n\u001b[1;32m    244\u001b[0m             \u001b[0;32mraise\u001b[0m \u001b[0mexception_class\u001b[0m\u001b[0;34m(\u001b[0m\u001b[0mmessage\u001b[0m\u001b[0;34m,\u001b[0m \u001b[0mscreen\u001b[0m\u001b[0;34m,\u001b[0m \u001b[0mstacktrace\u001b[0m\u001b[0;34m,\u001b[0m \u001b[0malert_text\u001b[0m\u001b[0;34m)\u001b[0m  \u001b[0;31m# type: ignore[call-arg]  # mypy is not smart enough here\u001b[0m\u001b[0;34m\u001b[0m\u001b[0;34m\u001b[0m\u001b[0m\n\u001b[0;32m--> 245\u001b[0;31m         \u001b[0;32mraise\u001b[0m \u001b[0mexception_class\u001b[0m\u001b[0;34m(\u001b[0m\u001b[0mmessage\u001b[0m\u001b[0;34m,\u001b[0m \u001b[0mscreen\u001b[0m\u001b[0;34m,\u001b[0m \u001b[0mstacktrace\u001b[0m\u001b[0;34m)\u001b[0m\u001b[0;34m\u001b[0m\u001b[0;34m\u001b[0m\u001b[0m\n\u001b[0m",
      "\u001b[0;31mNoSuchElementException\u001b[0m: Message: no such element: Unable to locate element: {\"method\":\"css selector\",\"selector\":\"#challenge-stage > div > label > input[type=checkbox]\"}\n  (Session info: headless chrome=113.0.5672.126)\nStacktrace:\n#0 0x5629828c6133 <unknown>\n#1 0x5629825fa966 <unknown>\n#2 0x5629826370dc <unknown>\n#3 0x562982637211 <unknown>\n#4 0x5629826716c4 <unknown>\n#5 0x562982656bfd <unknown>\n#6 0x56298266f1c7 <unknown>\n#7 0x5629826569a3 <unknown>\n#8 0x56298262b46a <unknown>\n#9 0x56298262c55e <unknown>\n#10 0x562982885cae <unknown>\n#11 0x5629828898fe <unknown>\n#12 0x562982892f20 <unknown>\n#13 0x56298288a923 <unknown>\n#14 0x56298285dc0e <unknown>\n#15 0x5629828adb08 <unknown>\n#16 0x5629828adc97 <unknown>\n#17 0x5629828be113 <unknown>\n#18 0x7f189006b609 start_thread\n"
     ]
    }
   ],
   "source": [
    "driver.get('https://www.indeed.com/jobs?q=.NET&l=VA&remotejob=032b3046-06a3-4876-8dfd-474eb5e7ed11&start=0&vjk=32f240a881a1bdc6')\n",
    "\n",
    "time.sleep(20)\n",
    "\n",
    "# print(driver.page_source)\n",
    "\n",
    "# Find the captcha box element using CSS selector\n",
    "captcha_box_1 = driver.find_element(By.CSS_SELECTOR, \"#challenge-stage > div > label > input[type=checkbox]\")\n",
    "\n",
    "# Find the captcha box element using XPath\n",
    "captcha_box_2 = driver.find_element(By.XPATH, '//*[@id=\"challenge-stage\"]/div/label/input')\n",
    "\n",
    "captcha_box_1\n",
    "\n",
    "\n",
    "# soup = BeautifulSoup(driver.page_source, 'html5lib')\n",
    "# soup\n"
   ]
  },
  {
   "cell_type": "code",
   "execution_count": 20,
   "metadata": {
    "colab": {
     "base_uri": "https://localhost:8080/",
     "height": 711
    },
    "id": "SI3ZhzuSHray",
    "outputId": "05547f78-ddf9-472f-bb49-6de6080415b5"
   },
   "outputs": [
    {
     "ename": "NoSuchElementException",
     "evalue": "ignored",
     "output_type": "error",
     "traceback": [
      "\u001b[0;31m---------------------------------------------------------------------------\u001b[0m",
      "\u001b[0;31mNoSuchElementException\u001b[0m                    Traceback (most recent call last)",
      "\u001b[0;32m<ipython-input-20-713dc9e9947d>\u001b[0m in \u001b[0;36m<cell line: 14>\u001b[0;34m()\u001b[0m\n\u001b[1;32m     12\u001b[0m \u001b[0;34m\u001b[0m\u001b[0m\n\u001b[1;32m     13\u001b[0m \u001b[0;31m# Find the captcha box element using XPath\u001b[0m\u001b[0;34m\u001b[0m\u001b[0;34m\u001b[0m\u001b[0m\n\u001b[0;32m---> 14\u001b[0;31m \u001b[0mcaptcha_box\u001b[0m \u001b[0;34m=\u001b[0m \u001b[0mdriver\u001b[0m\u001b[0;34m.\u001b[0m\u001b[0mfind_element\u001b[0m\u001b[0;34m(\u001b[0m\u001b[0mBy\u001b[0m\u001b[0;34m.\u001b[0m\u001b[0mXPATH\u001b[0m\u001b[0;34m,\u001b[0m \u001b[0;34m'//*[@id=\"challenge-stage\"]/div/label/input'\u001b[0m\u001b[0;34m)\u001b[0m\u001b[0;34m\u001b[0m\u001b[0;34m\u001b[0m\u001b[0m\n\u001b[0m\u001b[1;32m     15\u001b[0m \u001b[0;34m\u001b[0m\u001b[0m\n\u001b[1;32m     16\u001b[0m \u001b[0;34m\u001b[0m\u001b[0m\n",
      "\u001b[0;32m/usr/local/lib/python3.10/dist-packages/selenium/webdriver/remote/webdriver.py\u001b[0m in \u001b[0;36mfind_element\u001b[0;34m(self, by, value)\u001b[0m\n\u001b[1;32m    829\u001b[0m             \u001b[0mvalue\u001b[0m \u001b[0;34m=\u001b[0m \u001b[0;34mf'[name=\"{value}\"]'\u001b[0m\u001b[0;34m\u001b[0m\u001b[0;34m\u001b[0m\u001b[0m\n\u001b[1;32m    830\u001b[0m \u001b[0;34m\u001b[0m\u001b[0m\n\u001b[0;32m--> 831\u001b[0;31m         \u001b[0;32mreturn\u001b[0m \u001b[0mself\u001b[0m\u001b[0;34m.\u001b[0m\u001b[0mexecute\u001b[0m\u001b[0;34m(\u001b[0m\u001b[0mCommand\u001b[0m\u001b[0;34m.\u001b[0m\u001b[0mFIND_ELEMENT\u001b[0m\u001b[0;34m,\u001b[0m \u001b[0;34m{\u001b[0m\u001b[0;34m\"using\"\u001b[0m\u001b[0;34m:\u001b[0m \u001b[0mby\u001b[0m\u001b[0;34m,\u001b[0m \u001b[0;34m\"value\"\u001b[0m\u001b[0;34m:\u001b[0m \u001b[0mvalue\u001b[0m\u001b[0;34m}\u001b[0m\u001b[0;34m)\u001b[0m\u001b[0;34m[\u001b[0m\u001b[0;34m\"value\"\u001b[0m\u001b[0;34m]\u001b[0m\u001b[0;34m\u001b[0m\u001b[0;34m\u001b[0m\u001b[0m\n\u001b[0m\u001b[1;32m    832\u001b[0m \u001b[0;34m\u001b[0m\u001b[0m\n\u001b[1;32m    833\u001b[0m     \u001b[0;32mdef\u001b[0m \u001b[0mfind_elements\u001b[0m\u001b[0;34m(\u001b[0m\u001b[0mself\u001b[0m\u001b[0;34m,\u001b[0m \u001b[0mby\u001b[0m\u001b[0;34m=\u001b[0m\u001b[0mBy\u001b[0m\u001b[0;34m.\u001b[0m\u001b[0mID\u001b[0m\u001b[0;34m,\u001b[0m \u001b[0mvalue\u001b[0m\u001b[0;34m:\u001b[0m \u001b[0mOptional\u001b[0m\u001b[0;34m[\u001b[0m\u001b[0mstr\u001b[0m\u001b[0;34m]\u001b[0m \u001b[0;34m=\u001b[0m \u001b[0;32mNone\u001b[0m\u001b[0;34m)\u001b[0m \u001b[0;34m->\u001b[0m \u001b[0mList\u001b[0m\u001b[0;34m[\u001b[0m\u001b[0mWebElement\u001b[0m\u001b[0;34m]\u001b[0m\u001b[0;34m:\u001b[0m\u001b[0;34m\u001b[0m\u001b[0;34m\u001b[0m\u001b[0m\n",
      "\u001b[0;32m/usr/local/lib/python3.10/dist-packages/selenium/webdriver/remote/webdriver.py\u001b[0m in \u001b[0;36mexecute\u001b[0;34m(self, driver_command, params)\u001b[0m\n\u001b[1;32m    438\u001b[0m         \u001b[0mresponse\u001b[0m \u001b[0;34m=\u001b[0m \u001b[0mself\u001b[0m\u001b[0;34m.\u001b[0m\u001b[0mcommand_executor\u001b[0m\u001b[0;34m.\u001b[0m\u001b[0mexecute\u001b[0m\u001b[0;34m(\u001b[0m\u001b[0mdriver_command\u001b[0m\u001b[0;34m,\u001b[0m \u001b[0mparams\u001b[0m\u001b[0;34m)\u001b[0m\u001b[0;34m\u001b[0m\u001b[0;34m\u001b[0m\u001b[0m\n\u001b[1;32m    439\u001b[0m         \u001b[0;32mif\u001b[0m \u001b[0mresponse\u001b[0m\u001b[0;34m:\u001b[0m\u001b[0;34m\u001b[0m\u001b[0;34m\u001b[0m\u001b[0m\n\u001b[0;32m--> 440\u001b[0;31m             \u001b[0mself\u001b[0m\u001b[0;34m.\u001b[0m\u001b[0merror_handler\u001b[0m\u001b[0;34m.\u001b[0m\u001b[0mcheck_response\u001b[0m\u001b[0;34m(\u001b[0m\u001b[0mresponse\u001b[0m\u001b[0;34m)\u001b[0m\u001b[0;34m\u001b[0m\u001b[0;34m\u001b[0m\u001b[0m\n\u001b[0m\u001b[1;32m    441\u001b[0m             \u001b[0mresponse\u001b[0m\u001b[0;34m[\u001b[0m\u001b[0;34m\"value\"\u001b[0m\u001b[0;34m]\u001b[0m \u001b[0;34m=\u001b[0m \u001b[0mself\u001b[0m\u001b[0;34m.\u001b[0m\u001b[0m_unwrap_value\u001b[0m\u001b[0;34m(\u001b[0m\u001b[0mresponse\u001b[0m\u001b[0;34m.\u001b[0m\u001b[0mget\u001b[0m\u001b[0;34m(\u001b[0m\u001b[0;34m\"value\"\u001b[0m\u001b[0;34m,\u001b[0m \u001b[0;32mNone\u001b[0m\u001b[0;34m)\u001b[0m\u001b[0;34m)\u001b[0m\u001b[0;34m\u001b[0m\u001b[0;34m\u001b[0m\u001b[0m\n\u001b[1;32m    442\u001b[0m             \u001b[0;32mreturn\u001b[0m \u001b[0mresponse\u001b[0m\u001b[0;34m\u001b[0m\u001b[0;34m\u001b[0m\u001b[0m\n",
      "\u001b[0;32m/usr/local/lib/python3.10/dist-packages/selenium/webdriver/remote/errorhandler.py\u001b[0m in \u001b[0;36mcheck_response\u001b[0;34m(self, response)\u001b[0m\n\u001b[1;32m    243\u001b[0m                 \u001b[0malert_text\u001b[0m \u001b[0;34m=\u001b[0m \u001b[0mvalue\u001b[0m\u001b[0;34m[\u001b[0m\u001b[0;34m\"alert\"\u001b[0m\u001b[0;34m]\u001b[0m\u001b[0;34m.\u001b[0m\u001b[0mget\u001b[0m\u001b[0;34m(\u001b[0m\u001b[0;34m\"text\"\u001b[0m\u001b[0;34m)\u001b[0m\u001b[0;34m\u001b[0m\u001b[0;34m\u001b[0m\u001b[0m\n\u001b[1;32m    244\u001b[0m             \u001b[0;32mraise\u001b[0m \u001b[0mexception_class\u001b[0m\u001b[0;34m(\u001b[0m\u001b[0mmessage\u001b[0m\u001b[0;34m,\u001b[0m \u001b[0mscreen\u001b[0m\u001b[0;34m,\u001b[0m \u001b[0mstacktrace\u001b[0m\u001b[0;34m,\u001b[0m \u001b[0malert_text\u001b[0m\u001b[0;34m)\u001b[0m  \u001b[0;31m# type: ignore[call-arg]  # mypy is not smart enough here\u001b[0m\u001b[0;34m\u001b[0m\u001b[0;34m\u001b[0m\u001b[0m\n\u001b[0;32m--> 245\u001b[0;31m         \u001b[0;32mraise\u001b[0m \u001b[0mexception_class\u001b[0m\u001b[0;34m(\u001b[0m\u001b[0mmessage\u001b[0m\u001b[0;34m,\u001b[0m \u001b[0mscreen\u001b[0m\u001b[0;34m,\u001b[0m \u001b[0mstacktrace\u001b[0m\u001b[0;34m)\u001b[0m\u001b[0;34m\u001b[0m\u001b[0;34m\u001b[0m\u001b[0m\n\u001b[0m",
      "\u001b[0;31mNoSuchElementException\u001b[0m: Message: no such element: Unable to locate element: {\"method\":\"xpath\",\"selector\":\"//*[@id=\"challenge-stage\"]/div/label/input\"}\n  (Session info: headless chrome=113.0.5672.126)\nStacktrace:\n#0 0x5629828c6133 <unknown>\n#1 0x5629825fa966 <unknown>\n#2 0x5629826370dc <unknown>\n#3 0x562982637211 <unknown>\n#4 0x5629826716c4 <unknown>\n#5 0x562982656bfd <unknown>\n#6 0x56298266f1c7 <unknown>\n#7 0x5629826569a3 <unknown>\n#8 0x56298262b46a <unknown>\n#9 0x56298262c55e <unknown>\n#10 0x562982885cae <unknown>\n#11 0x5629828898fe <unknown>\n#12 0x562982892f20 <unknown>\n#13 0x56298288a923 <unknown>\n#14 0x56298285dc0e <unknown>\n#15 0x5629828adb08 <unknown>\n#16 0x5629828adc97 <unknown>\n#17 0x5629828be113 <unknown>\n#18 0x7f189006b609 start_thread\n"
     ]
    }
   ],
   "source": [
    "driver.get('https://www.indeed.com/jobs?q=.NET&l=VA&remotejob=032b3046-06a3-4876-8dfd-474eb5e7ed11&start=0&vjk=32f240a881a1bdc6')\n",
    "\n",
    "time.sleep(10)\n",
    "\n",
    "# Wait for the captcha box element to be present on the page.\n",
    "# WebDriverWait(driver, 20).until(\n",
    "#    lambda driver: driver.find_element(By.CSS_SELECTOR, \".captcha-container\")\n",
    "# )\n",
    "\n",
    "# Find the captcha box element using CSS selector\n",
    "# captcha_box = driver.find_element(By.CSS_SELECTOR, \"#challenge-stage > div > label > input[type=checkbox]\")\n",
    "\n",
    "# Find the captcha box element using XPath\n",
    "captcha_box = driver.find_element(By.XPATH, '//*[@id=\"challenge-stage\"]/div/label/input')\n",
    "\n",
    "\n",
    "# Click on the captcha box element\n",
    "captcha_box.click()\n",
    "\n",
    "time.sleep(5)\n",
    "\n",
    "# Wait for the captcha to be solved.\n",
    "# WebDriverWait(driver, 10).until(\n",
    "#    lambda driver: driver.find_element_by_id(\"captcha-solved\")\n",
    "# )\n",
    "\n",
    "soup = BeautifulSoup(driver.page_source, 'html5lib')\n",
    "soup"
   ]
  },
  {
   "cell_type": "code",
   "execution_count": 18,
   "metadata": {
    "id": "PANrSRemYrBv"
   },
   "outputs": [],
   "source": [
    "\n",
    "# proxy = {\n",
    "#     \"http\": '120.55.98.107:1080'\n",
    "#     # \"https\": 'https://135.181.156.3:8080'\n",
    "# }\n",
    "\n",
    "\n",
    "# headers = {\n",
    "#     # 'User-Agent': 'Mozilla/5.0 (Windows NT 10.0; Win64; x64) AppleWebKit/537.36 (KHTML, like Gecko) Chrome/58.0.3029.110 Safari/537.3'\n",
    "#     'User-Agent': 'Mozilla/5.0 (Windows NT 10.0; Win64; x64; rv:109.0) Gecko/20100101 Firefox/113.0' #My setup\n",
    "#     # \"User-Agent\": \"Mozilla/5.0 (Windows NT 10.0; Win64; x64) AppleWebKit/537.36 (KHTML, like Gecko) Chrome/78.0.3904.108 Safari/537.36\", \"Accept-Encoding\":\"gzip, deflate\", \"Accept\":\"text/html,application/xhtml+xml,application/xml;q=0.9,*/*;q=0.8\", \"DNT\":\"1\",\"Connection\":\"close\", \"Upgrade-Insecure-Requests\":\"1\"\n",
    "    \n",
    "# }\n"
   ]
  },
  {
   "cell_type": "code",
   "execution_count": null,
   "metadata": {
    "id": "8DN-Wgxst70j"
   },
   "outputs": [],
   "source": [
    "# r = requests.get(URLs[1], headers=headers, proxies=proxy)\n",
    "# soup = BeautifulSoup(r.text, 'html5lib')\n",
    "# print(r.status_code)\n",
    "# soup"
   ]
  },
  {
   "cell_type": "code",
   "execution_count": null,
   "metadata": {
    "id": "eHsGJcMqGyT8"
   },
   "outputs": [],
   "source": [
    "# try:\n",
    "#     r = requests.get(URLs[1], headers=headers, proxies=proxy)\n",
    "#     r.raise_for_status()  # This will raise an HTTPError if the response was unsuccessful\n",
    "#     soup = BeautifulSoup(r.text, 'html5lib')\n",
    "#     print(f\"Status code for {URLs[1]}: {r.status_code}\")\n",
    "#     print(soup)\n",
    "# except requests.exceptions.HTTPError as err:\n",
    "#     print(f\"HTTP error occurred for {URLs[1]}: \\n{err}\")\n",
    "# except requests.exceptions.RequestException as err:\n",
    "#     print(f\"Error occurred for {URLs[1]}: \\n{err}\")"
   ]
  },
  {
   "cell_type": "code",
   "execution_count": 24,
   "metadata": {
    "colab": {
     "base_uri": "https://localhost:8080/"
    },
    "id": "aAKQ4BAavI6e",
    "outputId": "527db9ba-ae9b-42ce-a785-d936342b5ece"
   },
   "outputs": [
    {
     "name": "stdout",
     "output_type": "stream",
     "text": [
      "Page did not load successfully.\n",
      "<html class=\"no-js\" lang=\"en-US\"><!--<![endif]--><head>\n",
      "<title>Attention Required! | Cloudflare</title>\n",
      "<meta charset=\"utf-8\"/>\n",
      "<meta content=\"text/html; charset=utf-8\" http-equiv=\"Content-Type\"/>\n",
      "<meta content=\"IE=Edge\" http-equiv=\"X-UA-Compatible\"/>\n",
      "<meta content=\"noindex, nofollow\" name=\"robots\"/>\n",
      "<meta content=\"width=device-width,initial-scale=1\" name=\"viewport\"/>\n",
      "<link href=\"/cdn-cgi/styles/cf.errors.css\" id=\"cf_styles-css\" rel=\"stylesheet\"/>\n",
      "<!--[if lt IE 9]><link rel=\"stylesheet\" id='cf_styles-ie-css' href=\"/cdn-cgi/styles/cf.errors.ie.css\" /><![endif]-->\n",
      "<style>body{margin:0;padding:0}</style>\n",
      "\n",
      "\n",
      "<!--[if gte IE 10]><!-->\n",
      "<script>\n",
      "  if (!navigator.cookieEnabled) {\n",
      "    window.addEventListener('DOMContentLoaded', function () {\n",
      "      var cookieEl = document.getElementById('cookie-alert');\n",
      "      cookieEl.style.display = 'block';\n",
      "    })\n",
      "  }\n",
      "</script>\n",
      "<!--<![endif]-->\n",
      "\n",
      "\n",
      "</head>\n",
      "<body>\n",
      "  <div id=\"cf-wrapper\">\n",
      "    <div class=\"cf-alert cf-alert-error cf-cookie-error\" data-translate=\"enable_cookies\" id=\"cookie-alert\">Please enable cookies.</div>\n",
      "    <div class=\"cf-error-details-wrapper\" id=\"cf-error-details\">\n",
      "      <div class=\"cf-wrapper cf-header cf-error-overview\">\n",
      "        <h1 data-translate=\"block_headline\">Sorry, you have been blocked</h1>\n",
      "        <h2 class=\"cf-subheadline\"><span data-translate=\"unable_to_access\">You are unable to access</span> indeed.com</h2>\n",
      "      </div><!-- /.header -->\n",
      "\n",
      "      <div class=\"cf-section cf-highlight\">\n",
      "        <div class=\"cf-wrapper\">\n",
      "          <div class=\"cf-screenshot-container cf-screenshot-full\">\n",
      "            \n",
      "              <span class=\"cf-no-screenshot error\"></span>\n",
      "            \n",
      "          </div>\n",
      "        </div>\n",
      "      </div><!-- /.captcha-container -->\n",
      "\n",
      "      <div class=\"cf-section cf-wrapper\">\n",
      "        <div class=\"cf-columns two\">\n",
      "          <div class=\"cf-column\">\n",
      "            <h2 data-translate=\"blocked_why_headline\">Why have I been blocked?</h2>\n",
      "\n",
      "            <p data-translate=\"blocked_why_detail\">This website is using a security service to protect itself from online attacks. The action you just performed triggered the security solution. There are several actions that could trigger this block including submitting a certain word or phrase, a SQL command or malformed data.</p>\n",
      "          </div>\n",
      "\n",
      "          <div class=\"cf-column\">\n",
      "            <h2 data-translate=\"blocked_resolve_headline\">What can I do to resolve this?</h2>\n",
      "\n",
      "            <p data-translate=\"blocked_resolve_detail\">You can email the site owner to let them know you were blocked. Please include what you were doing when this page came up and the Cloudflare Ray ID found at the bottom of this page.</p>\n",
      "          </div>\n",
      "        </div>\n",
      "      </div><!-- /.section -->\n",
      "\n",
      "      <div class=\"cf-error-footer cf-wrapper w-240 lg:w-full py-10 sm:py-4 sm:px-8 mx-auto text-center sm:text-left border-solid border-0 border-t border-gray-300\">\n",
      "  <p class=\"text-13\">\n",
      "    <span class=\"cf-footer-item sm:block sm:mb-1\">Cloudflare Ray ID: <strong class=\"font-semibold\">7cada75649f31d7e</strong></span>\n",
      "    <span class=\"cf-footer-separator sm:hidden\">•</span>\n",
      "    <span class=\"cf-footer-item sm:block sm:mb-1\" id=\"cf-footer-item-ip\">\n",
      "      Your IP:\n",
      "      <button class=\"cf-footer-ip-reveal-btn\" id=\"cf-footer-ip-reveal\" type=\"button\">Click to reveal</button>\n",
      "      <span class=\"hidden\" id=\"cf-footer-ip\">35.231.232.243</span>\n",
      "      <span class=\"cf-footer-separator sm:hidden\">•</span>\n",
      "    </span>\n",
      "    <span class=\"cf-footer-item sm:block sm:mb-1\"><span>Performance &amp; security by</span> <a href=\"https://www.cloudflare.com/5xx-error-landing\" id=\"brand_link\" rel=\"noopener noreferrer\" target=\"_blank\">Cloudflare</a></span>\n",
      "    \n",
      "  </p>\n",
      "  <script>(function(){function d(){var b=a.getElementById(\"cf-footer-item-ip\"),c=a.getElementById(\"cf-footer-ip-reveal\");b&&\"classList\"in b&&(b.classList.remove(\"hidden\"),c.addEventListener(\"click\",function(){c.classList.add(\"hidden\");a.getElementById(\"cf-footer-ip\").classList.remove(\"hidden\")}))}var a=document;document.addEventListener&&a.addEventListener(\"DOMContentLoaded\",d)})();</script>\n",
      "</div><!-- /.error-footer -->\n",
      "\n",
      "\n",
      "    </div><!-- /#cf-error-details -->\n",
      "  </div><!-- /#cf-wrapper -->\n",
      "\n",
      "  <script>\n",
      "  window._cf_translation = {};\n",
      "  \n",
      "  \n",
      "</script>\n",
      "\n",
      "\n",
      "\n",
      "</body></html>\n"
     ]
    }
   ],
   "source": [
    "from selenium.webdriver.common.by import By\n",
    "driver.get(URLs[1])\n",
    "\n",
    "try:\n",
    "    driver.find_elements(By.CSS_SELECTOR, 'cf-alert cf-alert-error cf-cookie-error')\n",
    "    print(\"Page did not load successfully.\")\n",
    "except NoSuchElementException:\n",
    "    print(\"Page loaded successfully.\")\n",
    "\n",
    "soup = BeautifulSoup(driver.page_source, 'html5lib')\n",
    "print(soup)"
   ]
  },
  {
   "cell_type": "code",
   "execution_count": null,
   "metadata": {
    "id": "K0jc93dC1xUx"
   },
   "outputs": [],
   "source": [
    "\n"
   ]
  },
  {
   "cell_type": "code",
   "execution_count": null,
   "metadata": {
    "id": "xoER-23elTBA"
   },
   "outputs": [],
   "source": [
    "master_list = gen_dataframe(URLs)"
   ]
  },
  {
   "cell_type": "code",
   "execution_count": null,
   "metadata": {
    "id": "IsgCiNa12Lg-"
   },
   "outputs": [],
   "source": [
    "master_list.head(10)"
   ]
  },
  {
   "cell_type": "code",
   "execution_count": null,
   "metadata": {
    "id": "EVBdxoLQ7tFA"
   },
   "outputs": [],
   "source": [
    "len(master_list)"
   ]
  },
  {
   "cell_type": "code",
   "execution_count": null,
   "metadata": {
    "id": "-cZtlbu28P0E"
   },
   "outputs": [],
   "source": [
    "master_list.nunique()"
   ]
  },
  {
   "cell_type": "code",
   "execution_count": null,
   "metadata": {
    "id": "S5tIWHhMkYJq"
   },
   "outputs": [],
   "source": [
    "dates_published = ['Employer reviewed job 1 day ago','Employer reviewed job 2 days ago','Employer reviewed job 3 days ago','Employer reviewed job 4 days ago',\n",
    "                   'Employer reviewed job 5 days ago','Employer reviewed job 6 days ago','Employer reviewed job 7 days ago',\n",
    "                   'Posted Just posted',\n",
    "                   'Posted Today', \n",
    "                   'Posted 1 day ago', \n",
    "                   'Posted 2 days ago', \n",
    "                   'Posted 3 days ago', \n",
    "                   'Posted 4 days ago', \n",
    "                   'Posted 5 days ago', \n",
    "                   'Posted 6 days ago', \n",
    "                   'Posted 7 days ago']\n",
    "\n",
    "master_list_fltr = master_list.loc[master_list['Date Published']=='Posted Just posted']\n",
    "\n",
    "for date in dates_published:\n",
    "  df = master_list.loc[master_list['Date Published']==date]\n",
    "  master_list_fltr = master_list_fltr.append(df)\n",
    "  \n",
    "master_list_fltr.head(100)"
   ]
  },
  {
   "cell_type": "code",
   "execution_count": null,
   "metadata": {
    "id": "vK2t8vhHXzTz"
   },
   "outputs": [],
   "source": [
    "len(master_list_fltr)"
   ]
  },
  {
   "cell_type": "code",
   "execution_count": null,
   "metadata": {
    "colab": {
     "base_uri": "https://localhost:8080/"
    },
    "id": "AUb69vnY23AP",
    "outputId": "34701946-3259-450f-9001-0c290d3031bc"
   },
   "outputs": [
    {
     "data": {
      "text/plain": [
       "Job Title         77\n",
       "URL               88\n",
       "Company           64\n",
       "Date Published    12\n",
       "dtype: int64"
      ]
     },
     "execution_count": 23,
     "metadata": {},
     "output_type": "execute_result"
    }
   ],
   "source": [
    "master_list_fltr.nunique()"
   ]
  },
  {
   "cell_type": "code",
   "execution_count": null,
   "metadata": {
    "colab": {
     "base_uri": "https://localhost:8080/"
    },
    "id": "rnBvcUuFnM0l",
    "outputId": "bdcd07e1-929c-4884-ba8b-d49fb920269b"
   },
   "outputs": [
    {
     "name": "stdout",
     "output_type": "stream",
     "text": [
      "Tue Jun 14 17:30:45 CDT 2022\n"
     ]
    }
   ],
   "source": [
    "!rm /etc/localtime\n",
    "!ln -s /usr/share/zoneinfo/Mexico/General /etc/localtime\n",
    "!date"
   ]
  },
  {
   "cell_type": "code",
   "execution_count": null,
   "metadata": {
    "colab": {
     "base_uri": "https://localhost:8080/"
    },
    "id": "ZihXakEkYuDz",
    "outputId": "59ff5c39-f0bf-49f7-8e62-bad07f55828f"
   },
   "outputs": [
    {
     "name": "stdout",
     "output_type": "stream",
     "text": [
      "2022-06-27\n"
     ]
    }
   ],
   "source": [
    "from datetime import date\n",
    "\n",
    "date_today = date.today()\n",
    "print(date_today)"
   ]
  },
  {
   "cell_type": "code",
   "execution_count": null,
   "metadata": {
    "id": "YxHCLAi9KF02"
   },
   "outputs": [],
   "source": [
    "from datetime import date\n",
    "\n",
    "date_today = date.today()\n",
    "\n",
    "job1 = jobs[0]\n",
    "job2 = jobs[1]\n",
    "job3 = jobs[2]\n",
    "\n",
    "# state1 = 'MX'\n",
    "state1 = states[0]\n",
    "state2 = states[1]\n",
    "state3 = states[2]\n",
    "state4 = states[3]\n",
    "state5 = states[4]\n",
    "\n",
    "\n",
    "#Use 'WG' when personal use\n",
    "# master_list.to_csv(f'prospect_companies_WG_{job1}{job2}_{state}.csv')\n",
    "# master_list_fltr.to_excel(f'prospect_companies_WG_{job1}__{state1}_{date_today}.xlsx')\n",
    "# master_list.to_excel(f'prospect_companies_WG_FULL_{job1}__{state1}_{date_today}.xlsx')\n",
    "\n",
    "# master_list.to_csv(f'prospect_companies_{job}_{state}_{date_today}.csv')\n",
    "master_list_fltr.to_excel(f'prospect_companies_{job1}{job2}{job3}__{state1}-{state2}-{state3}-{state4}-{state5}_{date_today}.xlsx')"
   ]
  },
  {
   "cell_type": "markdown",
   "metadata": {
    "id": "z1ypTuMMg_Za"
   },
   "source": [
    "END"
   ]
  },
  {
   "cell_type": "code",
   "execution_count": null,
   "metadata": {
    "id": "fzyshMfabKYF"
   },
   "outputs": [],
   "source": []
  }
 ],
 "metadata": {
  "colab": {
   "provenance": []
  },
  "kernelspec": {
   "display_name": "Python 3 (ipykernel)",
   "language": "python",
   "name": "python3"
  },
  "language_info": {
   "codemirror_mode": {
    "name": "ipython",
    "version": 3
   },
   "file_extension": ".py",
   "mimetype": "text/x-python",
   "name": "python",
   "nbconvert_exporter": "python",
   "pygments_lexer": "ipython3",
   "version": "3.11.3"
  }
 },
 "nbformat": 4,
 "nbformat_minor": 1
}
