{
 "cells": [
  {
   "cell_type": "code",
   "execution_count": 1,
   "metadata": {
    "id": "fzyshMfabKYF"
   },
   "outputs": [],
   "source": [
    "# Import necessary libraries\n",
    "import undetected_chromedriver as uc\n",
    "from bs4 import BeautifulSoup\n",
    "import time\n",
    "import numpy as np\n",
    "import pandas as pd\n",
    "from datetime import date"
   ]
  },
  {
   "cell_type": "code",
   "execution_count": 2,
   "metadata": {},
   "outputs": [],
   "source": [
    "# This commented code outlines the basic steps for web scraping as general reference:\n",
    "# create a new instance of Chrome\n",
    "#chrome = Chrome()\n",
    "\n",
    "# navigate to the website\n",
    "#chrome.get('https://mx.indeed.com/jobs?q=data+science&l=Remote+-+Mexico&start=0&pp=gQAPAAAAAAAAAAAAAAACBYaYUwAZAQEBBwdtIXZKBqGEO0bEFksnjLeua_78ewAA&vjk=94621b0d50661801')\n",
    "\n",
    "#time.sleep(10)\n",
    "# close the browser\n",
    "#chrome.close()"
   ]
  },
  {
   "cell_type": "code",
   "execution_count": 3,
   "metadata": {},
   "outputs": [],
   "source": [
    "# Defining a function \"extract\" which takes an argument \"page\" (a number)\n",
    "def extract(page):\n",
    "    #'url' is a string that changes depending on the page number\n",
    "    url = f'https://mx.indeed.com/jobs?q=data+science&l=Remote+-+Mexico&start={page}&pp=gQAPAAAAAAAAAAAAAAACBYaYUwAZAQEBBwdtIXZKBqGEO0bEFksnjLeua_78ewAA&vjk=94621b0d50661801'\n",
    "\n",
    "    options = uc.ChromeOptions()\n",
    "    driver = uc.Chrome(options=options)\n",
    "    driver.get(url)\n",
    "    html = driver.page_source\n",
    "    soup = BeautifulSoup(html, 'html.parser')\n",
    "    #The browser is quit after extraction to free up resources\n",
    "    driver.quit()\n",
    "    return soup"
   ]
  },
  {
   "cell_type": "code",
   "execution_count": 4,
   "metadata": {},
   "outputs": [],
   "source": [
    "# Defining a function \"transform\" to extract specific job-related information from the parsed HTML data\n",
    "def transform(soup):\n",
    "    divs = soup.find_all('div', class_ = 'slider_item')\n",
    "    for item in divs:\n",
    "        title = item.find('a').text.strip()\n",
    "        company = item.find('span', class_ = 'companyName').text.strip()\n",
    "        try:\n",
    "            salary = item.find('div', class_ = 'metadata salary-snippet-container').text.strip()\n",
    "        except:\n",
    "            salary = ''\n",
    "        summary = item.find('div', class_ = 'job-snippet').text.strip().replace('\\n', '')\n",
    "    \n",
    "        job = {\n",
    "            'title': title,\n",
    "            'company': company,\n",
    "            'salary': salary,\n",
    "            'summary': summary\n",
    "        }\n",
    "        job_list.append(job)\n",
    "    return"
   ]
  },
  {
   "cell_type": "code",
   "execution_count": 5,
   "metadata": {},
   "outputs": [
    {
     "name": "stdout",
     "output_type": "stream",
     "text": [
      "Getting page, 0\n",
      "Waiting some seconds...\n",
      "Getting page, 10\n",
      "Waiting some seconds...\n",
      "Getting page, 20\n",
      "Waiting some seconds...\n",
      "Getting page, 30\n",
      "Waiting some seconds...\n"
     ]
    }
   ],
   "source": [
    "# Initializing an empty list \"job_list\" to hold all job dictionaries\n",
    "job_list = []\n",
    "\n",
    "for i in range(0,40,10): # The for loop iterates over a limited range of page numbers, as this is designed primarily for learning and demonstration purposes\n",
    "    print(f'Getting page, {i}')\n",
    "    c = extract(i)\n",
    "    transform(c)\n",
    "    print(f'Waiting some seconds...')\n",
    "    #The waiting time simulates human interaction and helps avoid being detected as a bot by the website\n",
    "    time.sleep(np.random.randint(1,6) )"
   ]
  },
  {
   "cell_type": "code",
   "execution_count": 6,
   "metadata": {},
   "outputs": [
    {
     "name": "stdout",
     "output_type": "stream",
     "text": [
      "Jobs extracted: 60\n",
      "Jobs duplicated: 15\n"
     ]
    },
    {
     "data": {
      "text/html": [
       "<div>\n",
       "<style scoped>\n",
       "    .dataframe tbody tr th:only-of-type {\n",
       "        vertical-align: middle;\n",
       "    }\n",
       "\n",
       "    .dataframe tbody tr th {\n",
       "        vertical-align: top;\n",
       "    }\n",
       "\n",
       "    .dataframe thead th {\n",
       "        text-align: right;\n",
       "    }\n",
       "</style>\n",
       "<table border=\"1\" class=\"dataframe\">\n",
       "  <thead>\n",
       "    <tr style=\"text-align: right;\">\n",
       "      <th></th>\n",
       "      <th>title</th>\n",
       "      <th>company</th>\n",
       "      <th>salary</th>\n",
       "      <th>summary</th>\n",
       "    </tr>\n",
       "  </thead>\n",
       "  <tbody>\n",
       "    <tr>\n",
       "      <th>0</th>\n",
       "      <td>Gestor de Mailing y analíticos</td>\n",
       "      <td>Intelli-Dixit MX S.C.</td>\n",
       "      <td>Desde $18,000 por mes</td>\n",
       "      <td>Deseable: estudios en data science.Gestionar c...</td>\n",
       "    </tr>\n",
       "    <tr>\n",
       "      <th>1</th>\n",
       "      <td>IT Operations Analyst (Remote-Contract)</td>\n",
       "      <td>GreatFit Talent Recruitment</td>\n",
       "      <td>$200 a $300 por hora</td>\n",
       "      <td>Conduct periodic access reviews and audits to ...</td>\n",
       "    </tr>\n",
       "    <tr>\n",
       "      <th>2</th>\n",
       "      <td>Mobile Application Developer</td>\n",
       "      <td>Integon Service Co.</td>\n",
       "      <td>$80,181 a $88,000 por mes</td>\n",
       "      <td>Strong understanding of computer science conce...</td>\n",
       "    </tr>\n",
       "    <tr>\n",
       "      <th>3</th>\n",
       "      <td>Data Engineer</td>\n",
       "      <td>Perficient, Inc</td>\n",
       "      <td></td>\n",
       "      <td>Analyzing data to obtain new insights and hidd...</td>\n",
       "    </tr>\n",
       "    <tr>\n",
       "      <th>4</th>\n",
       "      <td>Machine Learning Engineer</td>\n",
       "      <td>iKraft Solutions</td>\n",
       "      <td>$75,000 a $95,000 por mes</td>\n",
       "      <td>Searching and selecting appropriate data sets ...</td>\n",
       "    </tr>\n",
       "  </tbody>\n",
       "</table>\n",
       "</div>"
      ],
      "text/plain": [
       "                                     title                      company   \n",
       "0           Gestor de Mailing y analíticos        Intelli-Dixit MX S.C.  \\\n",
       "1  IT Operations Analyst (Remote-Contract)  GreatFit Talent Recruitment   \n",
       "2             Mobile Application Developer          Integon Service Co.   \n",
       "3                            Data Engineer              Perficient, Inc   \n",
       "4                Machine Learning Engineer             iKraft Solutions   \n",
       "\n",
       "                      salary   \n",
       "0      Desde $18,000 por mes  \\\n",
       "1       $200 a $300 por hora   \n",
       "2  $80,181 a $88,000 por mes   \n",
       "3                              \n",
       "4  $75,000 a $95,000 por mes   \n",
       "\n",
       "                                             summary  \n",
       "0  Deseable: estudios en data science.Gestionar c...  \n",
       "1  Conduct periodic access reviews and audits to ...  \n",
       "2  Strong understanding of computer science conce...  \n",
       "3  Analyzing data to obtain new insights and hidd...  \n",
       "4  Searching and selecting appropriate data sets ...  "
      ]
     },
     "execution_count": 6,
     "metadata": {},
     "output_type": "execute_result"
    }
   ],
   "source": [
    "# Converting the list of job dictionaries (\"job_list\") into a Pandas DataFrame \"df\"\n",
    "df = pd.DataFrame(job_list)\n",
    "print(f'Jobs extracted: {len(df)}')\n",
    "#Printing the number of duplicated jobs in the DataFrame (if any)\n",
    "print(f'Jobs duplicated: {df.duplicated().sum()}')\n",
    "df.head()"
   ]
  },
  {
   "cell_type": "code",
   "execution_count": 7,
   "metadata": {},
   "outputs": [
    {
     "name": "stdout",
     "output_type": "stream",
     "text": [
      "Number of jobs before deduplication: 60\n",
      "Number of jobs after deduplication: 45\n"
     ]
    },
    {
     "data": {
      "text/html": [
       "<div>\n",
       "<style scoped>\n",
       "    .dataframe tbody tr th:only-of-type {\n",
       "        vertical-align: middle;\n",
       "    }\n",
       "\n",
       "    .dataframe tbody tr th {\n",
       "        vertical-align: top;\n",
       "    }\n",
       "\n",
       "    .dataframe thead th {\n",
       "        text-align: right;\n",
       "    }\n",
       "</style>\n",
       "<table border=\"1\" class=\"dataframe\">\n",
       "  <thead>\n",
       "    <tr style=\"text-align: right;\">\n",
       "      <th></th>\n",
       "      <th>title</th>\n",
       "      <th>company</th>\n",
       "      <th>salary</th>\n",
       "      <th>summary</th>\n",
       "    </tr>\n",
       "  </thead>\n",
       "  <tbody>\n",
       "    <tr>\n",
       "      <th>0</th>\n",
       "      <td>Gestor de Mailing y analíticos</td>\n",
       "      <td>Intelli-Dixit MX S.C.</td>\n",
       "      <td>Desde $18,000 por mes</td>\n",
       "      <td>Deseable: estudios en data science.Gestionar c...</td>\n",
       "    </tr>\n",
       "    <tr>\n",
       "      <th>1</th>\n",
       "      <td>IT Operations Analyst (Remote-Contract)</td>\n",
       "      <td>GreatFit Talent Recruitment</td>\n",
       "      <td>$200 a $300 por hora</td>\n",
       "      <td>Conduct periodic access reviews and audits to ...</td>\n",
       "    </tr>\n",
       "    <tr>\n",
       "      <th>2</th>\n",
       "      <td>Mobile Application Developer</td>\n",
       "      <td>Integon Service Co.</td>\n",
       "      <td>$80,181 a $88,000 por mes</td>\n",
       "      <td>Strong understanding of computer science conce...</td>\n",
       "    </tr>\n",
       "    <tr>\n",
       "      <th>3</th>\n",
       "      <td>Data Engineer</td>\n",
       "      <td>Perficient, Inc</td>\n",
       "      <td></td>\n",
       "      <td>Analyzing data to obtain new insights and hidd...</td>\n",
       "    </tr>\n",
       "    <tr>\n",
       "      <th>4</th>\n",
       "      <td>Machine Learning Engineer</td>\n",
       "      <td>iKraft Solutions</td>\n",
       "      <td>$75,000 a $95,000 por mes</td>\n",
       "      <td>Searching and selecting appropriate data sets ...</td>\n",
       "    </tr>\n",
       "  </tbody>\n",
       "</table>\n",
       "</div>"
      ],
      "text/plain": [
       "                                     title                      company   \n",
       "0           Gestor de Mailing y analíticos        Intelli-Dixit MX S.C.  \\\n",
       "1  IT Operations Analyst (Remote-Contract)  GreatFit Talent Recruitment   \n",
       "2             Mobile Application Developer          Integon Service Co.   \n",
       "3                            Data Engineer              Perficient, Inc   \n",
       "4                Machine Learning Engineer             iKraft Solutions   \n",
       "\n",
       "                      salary   \n",
       "0      Desde $18,000 por mes  \\\n",
       "1       $200 a $300 por hora   \n",
       "2  $80,181 a $88,000 por mes   \n",
       "3                              \n",
       "4  $75,000 a $95,000 por mes   \n",
       "\n",
       "                                             summary  \n",
       "0  Deseable: estudios en data science.Gestionar c...  \n",
       "1  Conduct periodic access reviews and audits to ...  \n",
       "2  Strong understanding of computer science conce...  \n",
       "3  Analyzing data to obtain new insights and hidd...  \n",
       "4  Searching and selecting appropriate data sets ...  "
      ]
     },
     "execution_count": 7,
     "metadata": {},
     "output_type": "execute_result"
    }
   ],
   "source": [
    "# Printing the total number of jobs before and after deduplication (if any)\n",
    "print(f'Number of jobs before deduplication: {len(df)}')\n",
    "df.drop_duplicates(inplace=True)\n",
    "df.reset_index(drop=True, inplace=True)\n",
    "print(f'Number of jobs after deduplication: {len(df)}')\n",
    "\n",
    "df.head()"
   ]
  },
  {
   "cell_type": "code",
   "execution_count": 10,
   "metadata": {},
   "outputs": [],
   "source": [
    "#Saving the DataFrame \"df\" as a .csv file, the filename includes today's date\n",
    "date_today = date.today()\n",
    "df.to_csv(f'indeed_jobs_{date_today}.cvs')"
   ]
  },
  {
   "cell_type": "code",
   "execution_count": null,
   "metadata": {},
   "outputs": [],
   "source": []
  }
 ],
 "metadata": {
  "colab": {
   "provenance": []
  },
  "kernelspec": {
   "display_name": "Python 3 (ipykernel)",
   "language": "python",
   "name": "python3"
  },
  "language_info": {
   "codemirror_mode": {
    "name": "ipython",
    "version": 3
   },
   "file_extension": ".py",
   "mimetype": "text/x-python",
   "name": "python",
   "nbconvert_exporter": "python",
   "pygments_lexer": "ipython3",
   "version": "3.11.3"
  }
 },
 "nbformat": 4,
 "nbformat_minor": 1
}
